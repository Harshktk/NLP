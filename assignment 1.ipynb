{
 "cells": [
  {
   "cell_type": "code",
   "execution_count": 4,
   "id": "5f8dd911",
   "metadata": {},
   "outputs": [
    {
     "name": "stderr",
     "output_type": "stream",
     "text": [
      "[nltk_data] Downloading package wordnet to\n",
      "[nltk_data]     C:\\Users\\Snehal\\AppData\\Roaming\\nltk_data...\n"
     ]
    }
   ],
   "source": [
    "import nltk\n",
    "nltk.download('wordnet')\n",
    "from nltk.tokenize import word_tokenize, TreebankWordTokenizer, TweetTokenizer, MWETokenizer\n",
    "from nltk.stem import PorterStemmer, SnowballStemmer, WordNetLemmatizer\n",
    "from nltk.tokenize import RegexpTokenizer\n",
    "\n"
   ]
  },
  {
   "cell_type": "code",
   "execution_count": 5,
   "id": "a67f890e",
   "metadata": {},
   "outputs": [
    {
     "name": "stdout",
     "output_type": "stream",
     "text": [
      "Whitespace Tokenization: ['NLTK', 'is', 'a', 'leading', 'platform', 'for', 'building', 'Python', 'programs', 'to', 'work', 'with', 'human', 'language', 'data.']\n",
      "Punctuation-based Tokenization: ['NLTK', 'is', 'a', 'leading', 'platform', 'for', 'building', 'Python', 'programs', 'to', 'work', 'with', 'human', 'language', 'data', '.']\n",
      "Treebank Tokenization: ['NLTK', 'is', 'a', 'leading', 'platform', 'for', 'building', 'Python', 'programs', 'to', 'work', 'with', 'human', 'language', 'data', '.']\n",
      "Tweet Tokenization: ['NLTK', 'is', 'a', 'leading', 'platform', 'for', 'building', 'Python', 'programs', 'to', 'work', 'with', 'human', 'language', 'data', '.']\n",
      "MWE Tokenization: ['NLTK_is', 'a', 'leading', 'platform', 'for', 'building', 'Python', 'programs', 'to', 'work', 'with', 'human', 'language', 'data.']\n",
      "\n",
      "Porter Stemmed Tokens: ['nltk', 'is', 'a', 'lead', 'platform', 'for', 'build', 'python', 'program', 'to', 'work', 'with', 'human', 'languag', 'data', '.']\n",
      "Snowball Stemmed Tokens: ['nltk', 'is', 'a', 'lead', 'platform', 'for', 'build', 'python', 'program', 'to', 'work', 'with', 'human', 'languag', 'data', '.']\n",
      "\n",
      "Lemmatized Tokens: ['NLTK', 'be', 'a', 'lead', 'platform', 'for', 'build', 'Python', 'program', 'to', 'work', 'with', 'human', 'language', 'data', '.']\n"
     ]
    }
   ],
   "source": [
    "# Sample text\n",
    "text = \"NLTK is a leading platform for building Python programs to work with human language data.\"\n",
    "\n",
    "# Tokenization\n",
    "# Whitespace tokenization\n",
    "whitespace_tokens = text.split()\n",
    "\n",
    "# Punctuation-based tokenization\n",
    "punctuation_tokens = nltk.word_tokenize(text)\n",
    "\n",
    "# Treebank tokenization\n",
    "treebank_tokenizer = TreebankWordTokenizer()\n",
    "treebank_tokens = treebank_tokenizer.tokenize(text)\n",
    "\n",
    "# Tweet tokenization\n",
    "tweet_tokenizer = TweetTokenizer()\n",
    "tweet_tokens = tweet_tokenizer.tokenize(text)\n",
    "\n",
    "# MWE (Multi-Word Expression) tokenization\n",
    "mwe_tokenizer = MWETokenizer([('NLTK', 'is'), ('human', 'language', 'data')])\n",
    "mwe_tokens = mwe_tokenizer.tokenize(text.split())\n",
    "\n",
    "# Stemming\n",
    "porter_stemmer = PorterStemmer()\n",
    "snowball_stemmer = SnowballStemmer(\"english\")\n",
    "\n",
    "porter_stemmed_tokens = [porter_stemmer.stem(token) for token in punctuation_tokens]\n",
    "snowball_stemmed_tokens = [snowball_stemmer.stem(token) for token in punctuation_tokens]\n",
    "\n",
    "# Lemmatization\n",
    "wordnet_lemmatizer = WordNetLemmatizer()\n",
    "\n",
    "# Lemmatization with pos tagging\n",
    "lemmatized_tokens = [wordnet_lemmatizer.lemmatize(token, pos='v') for token in punctuation_tokens]  # Verbs\n",
    "\n",
    "# Output\n",
    "print(\"Whitespace Tokenization:\", whitespace_tokens)\n",
    "print(\"Punctuation-based Tokenization:\", punctuation_tokens)\n",
    "print(\"Treebank Tokenization:\", treebank_tokens)\n",
    "print(\"Tweet Tokenization:\", tweet_tokens)\n",
    "print(\"MWE Tokenization:\", mwe_tokens)\n",
    "\n",
    "print(\"\\nPorter Stemmed Tokens:\", porter_stemmed_tokens)\n",
    "print(\"Snowball Stemmed Tokens:\", snowball_stemmed_tokens)\n",
    "\n",
    "print(\"\\nLemmatized Tokens:\", lemmatized_tokens)\n"
   ]
  },
  {
   "cell_type": "code",
   "execution_count": null,
   "id": "ddba4018",
   "metadata": {},
   "outputs": [],
   "source": []
  }
 ],
 "metadata": {
  "kernelspec": {
   "display_name": "Python 3 (ipykernel)",
   "language": "python",
   "name": "python3"
  },
  "language_info": {
   "codemirror_mode": {
    "name": "ipython",
    "version": 3
   },
   "file_extension": ".py",
   "mimetype": "text/x-python",
   "name": "python",
   "nbconvert_exporter": "python",
   "pygments_lexer": "ipython3",
   "version": "3.9.13"
  }
 },
 "nbformat": 4,
 "nbformat_minor": 5
}
